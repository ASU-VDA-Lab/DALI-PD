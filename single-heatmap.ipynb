{
 "cells": [
  {
   "cell_type": "code",
   "execution_count": 1,
   "id": "992aea47-61ef-47b2-80d7-4f80e50c7ea6",
   "metadata": {},
   "outputs": [],
   "source": [
    "#BSD 3-Clause License\n",
    "#\n",
    "#Copyright (c) 2025, ASU-VDA-Lab\n",
    "#\n",
    "#Redistribution and use in source and binary forms, with or without\n",
    "#modification, are permitted provided that the following conditions are met:\n",
    "#\n",
    "#1. Redistributions of source code must retain the above copyright notice, this\n",
    "#   list of conditions and the following disclaimer.\n",
    "#\n",
    "#2. Redistributions in binary form must reproduce the above copyright notice,\n",
    "#   this list of conditions and the following disclaimer in the documentation\n",
    "#   and/or other materials provided with the distribution.\n",
    "#\n",
    "#3. Neither the name of the copyright holder nor the names of its\n",
    "#   contributors may be used to endorse or promote products derived from\n",
    "#   this software without specific prior written permission.\n",
    "#\n",
    "#THIS SOFTWARE IS PROVIDED BY THE COPYRIGHT HOLDERS AND CONTRIBUTORS \"AS IS\"\n",
    "#AND ANY EXPRESS OR IMPLIED WARRANTIES, INCLUDING, BUT NOT LIMITED TO, THE\n",
    "#IMPLIED WARRANTIES OF MERCHANTABILITY AND FITNESS FOR A PARTICULAR PURPOSE ARE\n",
    "#DISCLAIMED. IN NO EVENT SHALL THE COPYRIGHT HOLDER OR CONTRIBUTORS BE LIABLE\n",
    "#FOR ANY DIRECT, INDIRECT, INCIDENTAL, SPECIAL, EXEMPLARY, OR CONSEQUENTIAL\n",
    "#DAMAGES (INCLUDING, BUT NOT LIMITED TO, PROCUREMENT OF SUBSTITUTE GOODS OR\n",
    "#SERVICES; LOSS OF USE, DATA, OR PROFITS; OR BUSINESS INTERRUPTION) HOWEVER\n",
    "#CAUSED AND ON ANY THEORY OF LIABILITY, WHETHER IN CONTRACT, STRICT LIABILITY,\n",
    "#OR TORT (INCLUDING NEGLIGENCE OR OTHERWISE) ARISING IN ANY WAY OUT OF THE USE\n",
    "#OF THIS SOFTWARE, EVEN IF ADVISED OF THE POSSIBILITY OF SUCH DAMAGE.\n",
    "\n",
    "import sys\n",
    "sys.path.append(\"./\")\n",
    "from src import VAE, StableDiffusionPipeline, EDAUNet\n",
    "import torch\n",
    "import os\n",
    "os.environ[\"CUDA_DEVICE_ORDER\"] = \"PCI_BUS_ID\"\n",
    "os.environ[\"CUDA_VISIBLE_DEVICES\"] = \"0,1,2,3\"\n",
    "from diffusers import DDPMScheduler\n",
    "import matplotlib.pyplot as plt"
   ]
  },
  {
   "cell_type": "markdown",
   "id": "594f21a9",
   "metadata": {},
   "source": [
    "# Define model path here"
   ]
  },
  {
   "cell_type": "code",
   "execution_count": 2,
   "id": "dd42636e",
   "metadata": {},
   "outputs": [],
   "source": [
    "vae_path = \"./models/vae/vae.pt\"\n",
    "unet_path = \"./models/unet/unet.pt\"\n",
    "device =\"cuda:0\""
   ]
  },
  {
   "cell_type": "markdown",
   "id": "5bba31de-9f57-4640-a168-47b33a149bbf",
   "metadata": {},
   "source": [
    "# Load models and launch the pipeline"
   ]
  },
  {
   "cell_type": "code",
   "execution_count": 3,
   "id": "ccd0028f",
   "metadata": {},
   "outputs": [],
   "source": [
    "# Load VAE\n",
    "vae = VAE()\n",
    "vae.load_state_dict(torch.load(vae_path))\n",
    "vae = vae.to(dtype = torch.float32, device = device)\n",
    "# Load UNet\n",
    "unet = EDAUNet()\n",
    "unet.load_state_dict(torch.load(unet_path, map_location = device), strict = False)\n",
    "# Load scheduler\n",
    "scheduler = DDPMScheduler.from_pretrained(\"stabilityai/stable-diffusion-2-1\", subfolder = \"scheduler\")\n",
    "# Launch pipeline\n",
    "pipeline = StableDiffusionPipeline(vae = vae, unet = unet, scheduler = scheduler)\n",
    "pipeline = pipeline.to(device = device)"
   ]
  },
  {
   "cell_type": "markdown",
   "id": "447caa75",
   "metadata": {},
   "source": [
    "# Set circuit information"
   ]
  },
  {
   "cell_type": "code",
   "execution_count": 6,
   "id": "05ec4c93",
   "metadata": {},
   "outputs": [],
   "source": [
    "height = 256 # Works best for 1:1 aspect ratio\n",
    "width = 256 \n",
    "macros = 3 # Setting this too large might result in failed sampling of macro bounding boxes\n",
    "utilization = 0.9 # Recommend to set this from 0.65 to 0.9\n",
    "clock_period = 20.0 # Recommend to set this from 2.0 to 25.0"
   ]
  },
  {
   "cell_type": "markdown",
   "id": "f7ee9124",
   "metadata": {},
   "source": [
    "# Generate synthetic circuit heatmaps"
   ]
  },
  {
   "cell_type": "code",
   "execution_count": null,
   "id": "5b776be1-9a87-4188-823b-d8a300e7e988",
   "metadata": {},
   "outputs": [],
   "source": [
    "\n",
    "images, iterations = pipeline(\n",
    "  height = height,\n",
    "  width = width,\n",
    "  macros = macros,\n",
    "  utilization = utilization,\n",
    "  clock_period = clock_period,\n",
    "  num_inference_steps = 100,\n",
    "  guidance_scale = 1.0,\n",
    "  num_images_per_prompt = 1,\n",
    "  output_type = \"numpy\",\n",
    ")"
   ]
  },
  {
   "cell_type": "markdown",
   "id": "6edd3b75",
   "metadata": {},
   "source": [
    "# Show iterations used to generate the circuit heatmaps"
   ]
  },
  {
   "cell_type": "code",
   "execution_count": null,
   "id": "aa6d7eda",
   "metadata": {},
   "outputs": [],
   "source": [
    "iterations"
   ]
  },
  {
   "cell_type": "markdown",
   "id": "f59d5e30-6235-45ff-a76a-78361d3f5393",
   "metadata": {},
   "source": [
    "# Show the heatmaps"
   ]
  },
  {
   "cell_type": "code",
   "execution_count": null,
   "id": "140e9d0e-7a0f-46df-9d5b-54f74f50425b",
   "metadata": {},
   "outputs": [],
   "source": [
    "fig, axs = plt.subplots(2, 3, figsize=(15, 10))\n",
    "\n",
    "im00 = axs[0, 0].imshow(images[\"cell_density\"][0], vmin=0, vmax=1, origin='lower', cmap = 'jet')\n",
    "axs[0, 0].set_title(\"Cell Density\")\n",
    "fig.colorbar(im00, ax=axs[0, 0])\n",
    "\n",
    "im10 = axs[1, 0].imshow(images[\"macro_region\"][0], vmin=0, vmax=1, origin='lower', cmap = 'jet')\n",
    "axs[1, 0].set_title(\"Macro Region\")\n",
    "fig.colorbar(im10, ax=axs[1, 0])\n",
    "\n",
    "im01 = axs[0, 1].imshow(images[\"RUDY\"][0], vmin=0, vmax=1, origin='lower', cmap = 'jet')\n",
    "axs[0, 1].set_title(\"RUDY\")\n",
    "fig.colorbar(im01, ax=axs[0, 1])\n",
    "\n",
    "im11 = axs[1, 1].imshow(images[\"IR_drop\"][0], vmin=0, vmax=1, origin='lower', cmap = 'jet')\n",
    "axs[1, 1].set_title(\"IR Drop\")\n",
    "fig.colorbar(im11, ax=axs[1, 1])\n",
    "\n",
    "im02 = axs[0, 2].imshow(images[\"power_all\"][0], vmin=0, vmax=1, origin='lower', cmap = 'jet')\n",
    "axs[0, 2].set_title(\"Power All\")\n",
    "fig.colorbar(im02, ax=axs[0, 2])\n",
    "\n",
    "im12 = axs[1, 2].imshow(images[\"power_sca\"][0], vmin=0, vmax=1, origin='lower', cmap = 'jet')\n",
    "axs[1, 2].set_title(\"Power SCA\")\n",
    "fig.colorbar(im12, ax=axs[1, 2])\n",
    "\n",
    "plt.tight_layout()\n",
    "plt.show()"
   ]
  }
 ],
 "metadata": {
  "kernelspec": {
   "display_name": "dataset",
   "language": "python",
   "name": "python3"
  },
  "language_info": {
   "codemirror_mode": {
    "name": "ipython",
    "version": 3
   },
   "file_extension": ".py",
   "mimetype": "text/x-python",
   "name": "python",
   "nbconvert_exporter": "python",
   "pygments_lexer": "ipython3",
   "version": "3.10.15"
  }
 },
 "nbformat": 4,
 "nbformat_minor": 5
}
